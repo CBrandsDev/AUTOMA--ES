{
 "cells": [
  {
   "cell_type": "code",
   "execution_count": 8,
   "metadata": {},
   "outputs": [],
   "source": [
    "import pyautogui as py\n",
    "import time"
   ]
  },
  {
   "cell_type": "code",
   "execution_count": 9,
   "metadata": {},
   "outputs": [
    {
     "name": "stdout",
     "output_type": "stream",
     "text": [
      "Números de requisição armazenados: [218369]\n",
      "Cannot find\n",
      "Cannot find\n",
      "Cannot find\n",
      "Cannot find\n",
      "Cannot find\n",
      "Cannot find\n",
      "Cannot find\n",
      "Cannot find\n",
      "Cannot find\n",
      "Cannot find\n",
      "Cannot find\n",
      "Cannot find\n",
      "Cannot find\n",
      "Cannot find\n",
      "Cannot find\n",
      "Cannot find\n",
      "Cannot find\n",
      "Cannot find\n",
      "Cannot find\n",
      "Cannot find\n",
      "Cannot find\n",
      "Cannot find\n",
      "Cannot find\n",
      "Cannot find\n"
     ]
    },
    {
     "ename": "KeyboardInterrupt",
     "evalue": "",
     "output_type": "error",
     "traceback": [
      "\u001b[1;31m---------------------------------------------------------------------------\u001b[0m",
      "\u001b[1;31mAttributeError\u001b[0m                            Traceback (most recent call last)",
      "\u001b[1;32mc:\\Users\\TI\\Desktop\\TI\\AUTOMAÇÕES\\Capacetes\\test.ipynb Cell 2\u001b[0m line \u001b[0;36m4\n\u001b[0;32m     <a href='vscode-notebook-cell:/c%3A/Users/TI/Desktop/TI/AUTOMA%C3%87%C3%95ES/Capacetes/test.ipynb#W1sZmlsZQ%3D%3D?line=40'>41</a>\u001b[0m nrequisicao \u001b[39m=\u001b[39m py\u001b[39m.\u001b[39mlocateCenterOnScreen(\u001b[39m'\u001b[39m\u001b[39m./assets/nrequisicao.png\u001b[39m\u001b[39m'\u001b[39m, grayscale\u001b[39m=\u001b[39m\u001b[39mTrue\u001b[39;00m)\n\u001b[1;32m---> <a href='vscode-notebook-cell:/c%3A/Users/TI/Desktop/TI/AUTOMA%C3%87%C3%95ES/Capacetes/test.ipynb#W1sZmlsZQ%3D%3D?line=41'>42</a>\u001b[0m py\u001b[39m.\u001b[39mclick(nrequisicao\u001b[39m.\u001b[39;49mx, nrequisicao\u001b[39m.\u001b[39my)\n\u001b[0;32m     <a href='vscode-notebook-cell:/c%3A/Users/TI/Desktop/TI/AUTOMA%C3%87%C3%95ES/Capacetes/test.ipynb#W1sZmlsZQ%3D%3D?line=42'>43</a>\u001b[0m py\u001b[39m.\u001b[39mtypewritewrite(numeros_de_requisicao[\u001b[39m0\u001b[39m])\n",
      "\u001b[1;31mAttributeError\u001b[0m: 'NoneType' object has no attribute 'x'",
      "\nDuring handling of the above exception, another exception occurred:\n",
      "\u001b[1;31mKeyboardInterrupt\u001b[0m                         Traceback (most recent call last)",
      "\u001b[1;32mc:\\Users\\TI\\Desktop\\TI\\AUTOMAÇÕES\\Capacetes\\test.ipynb Cell 2\u001b[0m line \u001b[0;36m4\n\u001b[0;32m     <a href='vscode-notebook-cell:/c%3A/Users/TI/Desktop/TI/AUTOMA%C3%87%C3%95ES/Capacetes/test.ipynb#W1sZmlsZQ%3D%3D?line=43'>44</a>\u001b[0m     find \u001b[39m=\u001b[39m \u001b[39m\"\u001b[39m\u001b[39mno\u001b[39m\u001b[39m\"\u001b[39m\n\u001b[0;32m     <a href='vscode-notebook-cell:/c%3A/Users/TI/Desktop/TI/AUTOMA%C3%87%C3%95ES/Capacetes/test.ipynb#W1sZmlsZQ%3D%3D?line=44'>45</a>\u001b[0m \u001b[39mexcept\u001b[39;00m:\n\u001b[1;32m---> <a href='vscode-notebook-cell:/c%3A/Users/TI/Desktop/TI/AUTOMA%C3%87%C3%95ES/Capacetes/test.ipynb#W1sZmlsZQ%3D%3D?line=45'>46</a>\u001b[0m     time\u001b[39m.\u001b[39;49msleep(\u001b[39m1\u001b[39;49m)\n\u001b[0;32m     <a href='vscode-notebook-cell:/c%3A/Users/TI/Desktop/TI/AUTOMA%C3%87%C3%95ES/Capacetes/test.ipynb#W1sZmlsZQ%3D%3D?line=46'>47</a>\u001b[0m     \u001b[39mprint\u001b[39m(\u001b[39m'\u001b[39m\u001b[39mCannot find\u001b[39m\u001b[39m'\u001b[39m)\n",
      "\u001b[1;31mKeyboardInterrupt\u001b[0m: "
     ]
    }
   ],
   "source": [
    "# automação para fazer o faturamento automatico dos capacetes e da venda dos boutiques\n",
    "# será necessario o webdrive para pegar as informações ou nn?\n",
    "# pra inicio deveremos anotar todas as variaveis de requisição\n",
    "\n",
    "# Crie uma lista vazia para armazenar os números de requisição\n",
    "numeros_de_requisicao = []\n",
    "\n",
    "# Use um loop para solicitar os números de requisição ao usuário\n",
    "numero_de_requisicoes = int(input(\"Digite o número de requisições que deseja adicionar: \"))\n",
    "\n",
    "for _ in range(numero_de_requisicoes):\n",
    "    numero = int(input(\"Digite o número de requisição: \"))\n",
    "    numeros_de_requisicao.append(numero)\n",
    "\n",
    "# Agora você tem todos os números de requisição armazenados na lista 'numeros_de_requisicao'\n",
    "print(\"Números de requisição armazenados:\", numeros_de_requisicao)\n",
    "\n",
    "# Abrir o edge e o cloud e localizar a parte de requisição      \n",
    "\n",
    "py.hotkey('win')\n",
    "time.sleep(0.5)\n",
    "py.typewrite('edge')\n",
    "py.press('enter')\n",
    "time.sleep(1)\n",
    "py.typewrite('https://microworkcloud.com.br/cloud/#/home')\n",
    "py.press('enter')\n",
    "\n",
    "find = \"yes\"\n",
    "while find == \"yes\":\n",
    "    try:\n",
    "        requisicao = py.locateCenterOnScreen('./assets/requisicao.png', grayscale=True)\n",
    "        py.click(requisicao.x, requisicao.y)\n",
    "        find = \"no\"\n",
    "    except:\n",
    "        time.sleep(1)\n",
    "        print('Cannot find')\n",
    "\n",
    "find = \"yes\"\n",
    "while find == \"yes\":\n",
    "    try:\n",
    "        nrequisicao = py.locateCenterOnScreen('./assets/nrequisicao.png', grayscale=True)\n",
    "        py.click(nrequisicao.x, nrequisicao.y)\n",
    "        py.typewritewrite(numeros_de_requisicao[0])\n",
    "        find = \"no\"\n",
    "    except:\n",
    "        time.sleep(1)\n",
    "        print('Cannot find')\n",
    "\n"
   ]
  }
 ],
 "metadata": {
  "kernelspec": {
   "display_name": "Python 3",
   "language": "python",
   "name": "python3"
  },
  "language_info": {
   "codemirror_mode": {
    "name": "ipython",
    "version": 3
   },
   "file_extension": ".py",
   "mimetype": "text/x-python",
   "name": "python",
   "nbconvert_exporter": "python",
   "pygments_lexer": "ipython3",
   "version": "3.11.6"
  }
 },
 "nbformat": 4,
 "nbformat_minor": 2
}
