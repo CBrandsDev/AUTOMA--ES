{
 "cells": [
  {
   "cell_type": "code",
   "execution_count": 12,
   "metadata": {},
   "outputs": [],
   "source": [
    "import pyautogui as py\n",
    "import time"
   ]
  },
  {
   "cell_type": "code",
   "execution_count": 13,
   "metadata": {},
   "outputs": [
    {
     "name": "stdout",
     "output_type": "stream",
     "text": [
      "Números de requisição armazenados: [218369]\n",
      "Cannot find\n",
      "Cannot find\n",
      "Cannot find\n"
     ]
    }
   ],
   "source": [
    "# automação para fazer o faturamento automatico dos capacetes e da venda dos boutiques\n",
    "# será necessario o webdrive para pegar as informações ou nn?\n",
    "# pra inicio deveremos anotar todas as variaveis de requisição\n",
    "\n",
    "# Crie uma lista vazia para armazenar os números de requisição\n",
    "numeros_de_requisicao = []\n",
    "print('save1')   \n",
    "\n",
    "# Use um loop para solicitar os números de requisição ao usuário\n",
    "numero_de_requisicoes = int(input(\"Digite o número de requisições que deseja adicionar: \"))\n",
    "\n",
    "for _ in range(numero_de_requisicoes):\n",
    "    numero = int(input(\"Digite o número de requisição: \"))\n",
    "    numeros_de_requisicao.append(numero)\n",
    "\n",
    "# Agora você tem todos os números de requisição armazenados na lista 'numeros_de_requisicao'\n",
    "print(\"Números de requisição armazenados:\", numeros_de_requisicao)\n",
    "\n",
    "# Abrir o edge e o cloud e localizar a parte de requisição      \n",
    "\n",
    "py.hotkey('win')\n",
    "time.sleep(0.5)\n",
    "py.typewrite('edge')\n",
    "py.press('enter')\n",
    "time.sleep(1)\n",
    "py.typewrite('https://microworkcloud.com.br/cloud/#/home')\n",
    "py.press('enter')\n",
    "\n",
    "find = \"yes\"\n",
    "while find == \"yes\":\n",
    "    try:\n",
    "        requisicao = py.locateCenterOnScreen('./assets/requisicao.png', grayscale=True)\n",
    "        py.click(requisicao.x, requisicao.y)\n",
    "        find = \"no\"\n",
    "    except:\n",
    "        time.sleep(1)\n",
    "        print('Cannot find')\n",
    "\n",
    "find = \"yes\"\n",
    "while find == \"yes\":\n",
    "    try:\n",
    "        nrequisicao = py.locateCenterOnScreen('./assets/nrequisicao.png', grayscale=True)\n",
    "        py.click(nrequisicao.x, nrequisicao.y)\n",
    "        py.typewrite(str(numeros_de_requisicao[0]))\n",
    "        py.press('enter')\n",
    "        find = \"no\"\n",
    "    except:\n",
    "        time.sleep(1)\n",
    "        print('Cannot find')\n",
    "\n"
   ]
  }
 ],
 "metadata": {
  "kernelspec": {
   "display_name": "Python 3",
   "language": "python",
   "name": "python3"
  },
  "language_info": {
   "codemirror_mode": {
    "name": "ipython",
    "version": 3
   },
   "file_extension": ".py",
   "mimetype": "text/x-python",
   "name": "python",
   "nbconvert_exporter": "python",
   "pygments_lexer": "ipython3",
   "version": "3.11.6"
  }
 },
 "nbformat": 4,
 "nbformat_minor": 2
}
