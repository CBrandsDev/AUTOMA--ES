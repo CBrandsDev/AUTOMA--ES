{
 "cells": [
  {
   "cell_type": "code",
   "execution_count": 2,
   "metadata": {},
   "outputs": [],
   "source": [
    "import pyautogui as py\n",
    "import time"
   ]
  },
  {
   "cell_type": "code",
   "execution_count": 3,
   "metadata": {},
   "outputs": [
    {
     "name": "stdout",
     "output_type": "stream",
     "text": [
      "Números de requisição armazenados: [218369, 218368, 218370, 218392]\n"
     ]
    }
   ],
   "source": [
    "# automação para fazer o faturamento automatico dos capacetes e da venda dos boutiques\n",
    "# será necessario o webdrive para pegar as informações ou nn?\n",
    "# pra inicio deveremos anotar todas as variaveis de requisição\n",
    "\n",
    "# Crie uma lista vazia para armazenar os números de requisição\n",
    "numeros_de_requisicao = []\n",
    "\n",
    "# Use um loop para solicitar os números de requisição ao usuário\n",
    "numero_de_requisicoes = int(input(\"Digite o número de requisições que deseja adicionar: \"))\n",
    "\n",
    "for _ in range(numero_de_requisicoes):\n",
    "    numero = int(input(\"Digite o número de requisição: \"))\n",
    "    numeros_de_requisicao.append(numero)\n",
    "\n",
    "# Agora você tem todos os números de requisição armazenados na lista 'numeros_de_requisicao'\n",
    "print(\"Números de requisição armazenados:\", numeros_de_requisicao)\n",
    "\n"
   ]
  }
 ],
 "metadata": {
  "kernelspec": {
   "display_name": "Python 3",
   "language": "python",
   "name": "python3"
  },
  "language_info": {
   "codemirror_mode": {
    "name": "ipython",
    "version": 3
   },
   "file_extension": ".py",
   "mimetype": "text/x-python",
   "name": "python",
   "nbconvert_exporter": "python",
   "pygments_lexer": "ipython3",
   "version": "3.11.6"
  }
 },
 "nbformat": 4,
 "nbformat_minor": 2
}
