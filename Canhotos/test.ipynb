{
 "cells": [
  {
   "cell_type": "code",
   "execution_count": 2,
   "metadata": {},
   "outputs": [],
   "source": [
    "import pyautogui as py\n",
    "import time  \n"
   ]
  },
  {
   "cell_type": "code",
   "execution_count": 6,
   "metadata": {},
   "outputs": [
    {
     "name": "stdout",
     "output_type": "stream",
     "text": [
      "Cannot find\n",
      "Cannot find\n",
      "Cannot find\n",
      "Cannot find\n",
      "Cannot find\n",
      "Cannot find\n",
      "Cannot find\n",
      "Cannot find\n",
      "Cannot find\n",
      "Cannot find\n",
      "Cannot find\n",
      "Cannot find\n",
      "Cannot find\n",
      "Cannot find\n",
      "Cannot find\n",
      "Cannot find\n",
      "Cannot find\n",
      "Cannot find\n",
      "Cannot find\n"
     ]
    }
   ],
   "source": [
    "# automação para canhotos toda segunda feira\n",
    "# Geral: gerar e baixar dois pdf's de canhotos no sistema cloud e salvar na pasta de Miguel com a data e nome correto para cada um\n",
    "\n",
    "# 1° passo: abrir o sistema cloud na aba canhotos -> contas a receber\n",
    "\n",
    "find = \"yes\"\n",
    "\n",
    "py.hotkey('win')\n",
    "time.sleep(0.5)\n",
    "py.typewrite('edge')\n",
    "py.press('enter')\n",
    "time.sleep(1)\n",
    "py.typewrite('https://microworkcloud.com.br/cloud/#/home')\n",
    "py.press('enter')\n",
    "time.sleep(3)\n",
    "py.keyDown('shift')\n",
    "py.scroll(-900)\n",
    "py.keyUp('shift')\n",
    "\n",
    "while find == \"yes\":\n",
    "    try:\n",
    "        contasAReceber = py.locateOnScreen('./contas_a_receber.png', grayscale=True)\n",
    "        py.click(contasAReceber.x, contasAReceber.y)\n",
    "        find = \"no\"\n",
    "    except:\n",
    "        time.sleep(1)\n",
    "        print('Cannot find')\n",
    "        \n",
    "\n",
    "\n",
    "\n",
    "\n",
    "\n"
   ]
  }
 ],
 "metadata": {
  "kernelspec": {
   "display_name": "Python 3",
   "language": "python",
   "name": "python3"
  },
  "language_info": {
   "codemirror_mode": {
    "name": "ipython",
    "version": 3
   },
   "file_extension": ".py",
   "mimetype": "text/x-python",
   "name": "python",
   "nbconvert_exporter": "python",
   "pygments_lexer": "ipython3",
   "version": "3.11.5"
  },
  "orig_nbformat": 4
 },
 "nbformat": 4,
 "nbformat_minor": 2
}
