{
 "cells": [
  {
   "cell_type": "code",
   "execution_count": 2,
   "metadata": {},
   "outputs": [],
   "source": [
    "import pyautogui as py\n",
    "import time\n",
    "from datetime import datetime, timedelta  \n"
   ]
  },
  {
   "cell_type": "code",
   "execution_count": 4,
   "metadata": {},
   "outputs": [
    {
     "name": "stdout",
     "output_type": "stream",
     "text": [
      "2023-09-26\n",
      "2023-09-19\n",
      "Cannot Find\n"
     ]
    },
    {
     "ename": "TypeError",
     "evalue": "'datetime.date' object is not iterable",
     "output_type": "error",
     "traceback": [
      "\u001b[1;31m---------------------------------------------------------------------------\u001b[0m",
      "\u001b[1;31mTypeError\u001b[0m                                 Traceback (most recent call last)",
      "\u001b[1;32mc:\\Users\\TI\\Desktop\\TI\\AUTOMAÇÕES\\Canhotos\\test.ipynb Cell 2\u001b[0m line \u001b[0;36m5\n\u001b[0;32m     <a href='vscode-notebook-cell:/c%3A/Users/TI/Desktop/TI/AUTOMA%C3%87%C3%95ES/Canhotos/test.ipynb#W1sZmlsZQ%3D%3D?line=53'>54</a>\u001b[0m py\u001b[39m.\u001b[39mpress(\u001b[39m'\u001b[39m\u001b[39mtab\u001b[39m\u001b[39m'\u001b[39m)\n\u001b[0;32m     <a href='vscode-notebook-cell:/c%3A/Users/TI/Desktop/TI/AUTOMA%C3%87%C3%95ES/Canhotos/test.ipynb#W1sZmlsZQ%3D%3D?line=54'>55</a>\u001b[0m py\u001b[39m.\u001b[39mpress(\u001b[39m'\u001b[39m\u001b[39mtab\u001b[39m\u001b[39m'\u001b[39m)\n\u001b[1;32m---> <a href='vscode-notebook-cell:/c%3A/Users/TI/Desktop/TI/AUTOMA%C3%87%C3%95ES/Canhotos/test.ipynb#W1sZmlsZQ%3D%3D?line=56'>57</a>\u001b[0m py\u001b[39m.\u001b[39;49mtypewrite(initialDate)\n\u001b[0;32m     <a href='vscode-notebook-cell:/c%3A/Users/TI/Desktop/TI/AUTOMA%C3%87%C3%95ES/Canhotos/test.ipynb#W1sZmlsZQ%3D%3D?line=58'>59</a>\u001b[0m py\u001b[39m.\u001b[39mpress(\u001b[39m'\u001b[39m\u001b[39mtab\u001b[39m\u001b[39m'\u001b[39m)\n\u001b[0;32m     <a href='vscode-notebook-cell:/c%3A/Users/TI/Desktop/TI/AUTOMA%C3%87%C3%95ES/Canhotos/test.ipynb#W1sZmlsZQ%3D%3D?line=60'>61</a>\u001b[0m py\u001b[39m.\u001b[39mtypewrite(finalDate)\n",
      "File \u001b[1;32m~\\AppData\\Local\\Packages\\PythonSoftwareFoundation.Python.3.11_qbz5n2kfra8p0\\LocalCache\\local-packages\\Python311\\site-packages\\pyautogui\\__init__.py:594\u001b[0m, in \u001b[0;36m_genericPyAutoGUIChecks.<locals>.wrapper\u001b[1;34m(*args, **kwargs)\u001b[0m\n\u001b[0;32m    591\u001b[0m \u001b[39m@functools\u001b[39m\u001b[39m.\u001b[39mwraps(wrappedFunction)\n\u001b[0;32m    592\u001b[0m \u001b[39mdef\u001b[39;00m \u001b[39mwrapper\u001b[39m(\u001b[39m*\u001b[39margs, \u001b[39m*\u001b[39m\u001b[39m*\u001b[39mkwargs):\n\u001b[0;32m    593\u001b[0m     failSafeCheck()\n\u001b[1;32m--> 594\u001b[0m     returnVal \u001b[39m=\u001b[39m wrappedFunction(\u001b[39m*\u001b[39;49margs, \u001b[39m*\u001b[39;49m\u001b[39m*\u001b[39;49mkwargs)\n\u001b[0;32m    595\u001b[0m     _handlePause(kwargs\u001b[39m.\u001b[39mget(\u001b[39m\"\u001b[39m\u001b[39m_pause\u001b[39m\u001b[39m\"\u001b[39m, \u001b[39mTrue\u001b[39;00m))\n\u001b[0;32m    596\u001b[0m     \u001b[39mreturn\u001b[39;00m returnVal\n",
      "File \u001b[1;32m~\\AppData\\Local\\Packages\\PythonSoftwareFoundation.Python.3.11_qbz5n2kfra8p0\\LocalCache\\local-packages\\Python311\\site-packages\\pyautogui\\__init__.py:1682\u001b[0m, in \u001b[0;36mtypewrite\u001b[1;34m(message, interval, logScreenshot, _pause)\u001b[0m\n\u001b[0;32m   1679\u001b[0m interval \u001b[39m=\u001b[39m \u001b[39mfloat\u001b[39m(interval)  \u001b[39m# TODO - this should be taken out.\u001b[39;00m\n\u001b[0;32m   1681\u001b[0m _logScreenshot(logScreenshot, \u001b[39m\"\u001b[39m\u001b[39mwrite\u001b[39m\u001b[39m\"\u001b[39m, message, folder\u001b[39m=\u001b[39m\u001b[39m\"\u001b[39m\u001b[39m.\u001b[39m\u001b[39m\"\u001b[39m)\n\u001b[1;32m-> 1682\u001b[0m \u001b[39mfor\u001b[39;00m c \u001b[39min\u001b[39;00m message:\n\u001b[0;32m   1683\u001b[0m     \u001b[39mif\u001b[39;00m \u001b[39mlen\u001b[39m(c) \u001b[39m>\u001b[39m \u001b[39m1\u001b[39m:\n\u001b[0;32m   1684\u001b[0m         c \u001b[39m=\u001b[39m c\u001b[39m.\u001b[39mlower()\n",
      "\u001b[1;31mTypeError\u001b[0m: 'datetime.date' object is not iterable"
     ]
    }
   ],
   "source": [
    "# automação para canhotos toda segunda feira\n",
    "# Geral: gerar e baixar dois pdf's de canhotos no sistema cloud e salvar na pasta de Miguel com a data e nome correto para cada um\n",
    "\n",
    "#  Variaveis\n",
    "\n",
    "find = \"yes\" # variavel do loop\n",
    "finalDate = datetime.today().date()\n",
    "initialDate = finalDate - timedelta(days=7)\n",
    "\n",
    "print(finalDate)\n",
    "print(initialDate)\n",
    "\n",
    "# 1° passo: abrir o sistema cloud na aba canhotos -> contas a receber\n",
    "\n",
    "\n",
    "\n",
    "py.hotkey('win')\n",
    "time.sleep(0.5)\n",
    "py.typewrite('edge')\n",
    "py.press('enter')\n",
    "time.sleep(1)\n",
    "py.typewrite('https://microworkcloud.com.br/cloud/#/home')\n",
    "py.press('enter')\n",
    "time.sleep(3)\n",
    "py.keyDown('shift')\n",
    "py.scroll(-900)\n",
    "py.keyUp('shift')\n",
    "time.sleep(1.5)\n",
    "\n",
    "while find == \"yes\":\n",
    "    try:\n",
    "        contasAReceber = py.locateCenterOnScreen('./contas_a_receber.png', grayscale=True)\n",
    "        py.click(contasAReceber.x, contasAReceber.y)\n",
    "        find = \"no\"\n",
    "    except:\n",
    "        time.sleep(1)\n",
    "        print('Cannot find')\n",
    "\n",
    "\n",
    "# 2° passo: Abrir a area de canhotos e emitir os boletos da semana de segunda a segunda\n",
    "\n",
    "find = \"yes\"\n",
    "while find == \"yes\":\n",
    "    try:\n",
    "        abaCanhotos = py.locateCenterOnScreen('./aba_canhotos.png', grayscale=True)\n",
    "        py.click(abaCanhotos.x, abaCanhotos.y)\n",
    "        time.sleep(3)\n",
    "        find = \"no\"\n",
    "    except:\n",
    "        time.sleep(1)\n",
    "        print(\"Cannot Find\")\n",
    "\n",
    "py.press('tab')\n",
    "py.press('tab')\n",
    "py.press('tab')\n",
    "\n",
    "py.typewrite(initialDate)\n",
    "\n",
    "py.press('tab')\n",
    "\n",
    "py.typewrite(finalDate)\n",
    "\n",
    "find = \"yes\"\n",
    "\n",
    "\n",
    "\n",
    "\n",
    "\n",
    "\n"
   ]
  }
 ],
 "metadata": {
  "kernelspec": {
   "display_name": "Python 3",
   "language": "python",
   "name": "python3"
  },
  "language_info": {
   "codemirror_mode": {
    "name": "ipython",
    "version": 3
   },
   "file_extension": ".py",
   "mimetype": "text/x-python",
   "name": "python",
   "nbconvert_exporter": "python",
   "pygments_lexer": "ipython3",
   "version": "3.11.5"
  },
  "orig_nbformat": 4
 },
 "nbformat": 4,
 "nbformat_minor": 2
}
