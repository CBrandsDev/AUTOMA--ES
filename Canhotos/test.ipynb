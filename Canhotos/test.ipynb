{
 "cells": [
  {
   "cell_type": "code",
   "execution_count": 5,
   "metadata": {},
   "outputs": [],
   "source": [
    "import pyautogui as py\n",
    "import time  \n"
   ]
  },
  {
   "cell_type": "code",
   "execution_count": 32,
   "metadata": {},
   "outputs": [
    {
     "name": "stdout",
     "output_type": "stream",
     "text": [
      "Cannot find\n",
      "Cannot find\n",
      "Cannot find\n",
      "Cannot find\n",
      "Cannot find\n",
      "Cannot find\n",
      "Cannot find\n",
      "Cannot find\n",
      "Cannot find\n",
      "Cannot find\n"
     ]
    },
    {
     "ename": "KeyboardInterrupt",
     "evalue": "",
     "output_type": "error",
     "traceback": [
      "\u001b[1;31m---------------------------------------------------------------------------\u001b[0m",
      "\u001b[1;31mNotImplementedError\u001b[0m                       Traceback (most recent call last)",
      "\u001b[1;32mc:\\Users\\TI\\Desktop\\TI\\AUTOMAÇÕES\\Canhotos\\test.ipynb Cell 2\u001b[0m line \u001b[0;36m2\n\u001b[0;32m     <a href='vscode-notebook-cell:/c%3A/Users/TI/Desktop/TI/AUTOMA%C3%87%C3%95ES/Canhotos/test.ipynb#W1sZmlsZQ%3D%3D?line=20'>21</a>\u001b[0m \u001b[39mtry\u001b[39;00m:\n\u001b[1;32m---> <a href='vscode-notebook-cell:/c%3A/Users/TI/Desktop/TI/AUTOMA%C3%87%C3%95ES/Canhotos/test.ipynb#W1sZmlsZQ%3D%3D?line=21'>22</a>\u001b[0m     contasAReceber \u001b[39m=\u001b[39m py\u001b[39m.\u001b[39;49mlocateOnScreen(\u001b[39m'\u001b[39;49m\u001b[39m./contas_a_receber.png\u001b[39;49m\u001b[39m'\u001b[39;49m, confidence\u001b[39m=\u001b[39;49m\u001b[39m0.7\u001b[39;49m, grayscale\u001b[39m=\u001b[39;49m\u001b[39mTrue\u001b[39;49;00m, region\u001b[39m=\u001b[39;49m(\u001b[39m0\u001b[39;49m, \u001b[39m0\u001b[39;49m, \u001b[39m669\u001b[39;49m, \u001b[39m768\u001b[39;49m))\n\u001b[0;32m     <a href='vscode-notebook-cell:/c%3A/Users/TI/Desktop/TI/AUTOMA%C3%87%C3%95ES/Canhotos/test.ipynb#W1sZmlsZQ%3D%3D?line=22'>23</a>\u001b[0m     py\u001b[39m.\u001b[39mclick(contasAReceber\u001b[39m.\u001b[39mx, contasAReceber\u001b[39m.\u001b[39my)\n",
      "File \u001b[1;32m~\\AppData\\Local\\Packages\\PythonSoftwareFoundation.Python.3.11_qbz5n2kfra8p0\\LocalCache\\local-packages\\Python311\\site-packages\\pyautogui\\__init__.py:172\u001b[0m, in \u001b[0;36mraisePyAutoGUIImageNotFoundException.<locals>.wrapper\u001b[1;34m(*args, **kwargs)\u001b[0m\n\u001b[0;32m    171\u001b[0m \u001b[39mtry\u001b[39;00m:\n\u001b[1;32m--> 172\u001b[0m     \u001b[39mreturn\u001b[39;00m wrappedFunction(\u001b[39m*\u001b[39;49margs, \u001b[39m*\u001b[39;49m\u001b[39m*\u001b[39;49mkwargs)\n\u001b[0;32m    173\u001b[0m \u001b[39mexcept\u001b[39;00m pyscreeze\u001b[39m.\u001b[39mImageNotFoundException:\n",
      "File \u001b[1;32m~\\AppData\\Local\\Packages\\PythonSoftwareFoundation.Python.3.11_qbz5n2kfra8p0\\LocalCache\\local-packages\\Python311\\site-packages\\pyautogui\\__init__.py:210\u001b[0m, in \u001b[0;36mlocateOnScreen\u001b[1;34m(*args, **kwargs)\u001b[0m\n\u001b[0;32m    208\u001b[0m \u001b[39m@raisePyAutoGUIImageNotFoundException\u001b[39m\n\u001b[0;32m    209\u001b[0m \u001b[39mdef\u001b[39;00m \u001b[39mlocateOnScreen\u001b[39m(\u001b[39m*\u001b[39margs, \u001b[39m*\u001b[39m\u001b[39m*\u001b[39mkwargs):\n\u001b[1;32m--> 210\u001b[0m     \u001b[39mreturn\u001b[39;00m pyscreeze\u001b[39m.\u001b[39;49mlocateOnScreen(\u001b[39m*\u001b[39;49margs, \u001b[39m*\u001b[39;49m\u001b[39m*\u001b[39;49mkwargs)\n",
      "File \u001b[1;32m~\\AppData\\Local\\Packages\\PythonSoftwareFoundation.Python.3.11_qbz5n2kfra8p0\\LocalCache\\local-packages\\Python311\\site-packages\\pyscreeze\\__init__.py:378\u001b[0m, in \u001b[0;36mlocateOnScreen\u001b[1;34m(image, minSearchTime, **kwargs)\u001b[0m\n\u001b[0;32m    375\u001b[0m screenshotIm \u001b[39m=\u001b[39m screenshot(\n\u001b[0;32m    376\u001b[0m     region\u001b[39m=\u001b[39m\u001b[39mNone\u001b[39;00m\n\u001b[0;32m    377\u001b[0m )  \u001b[39m# the locateAll() function must handle cropping to return accurate coordinates, so don't pass a region here.\u001b[39;00m\n\u001b[1;32m--> 378\u001b[0m retVal \u001b[39m=\u001b[39m locate(image, screenshotIm, \u001b[39m*\u001b[39;49m\u001b[39m*\u001b[39;49mkwargs)\n\u001b[0;32m    379\u001b[0m \u001b[39mtry\u001b[39;00m:\n",
      "File \u001b[1;32m~\\AppData\\Local\\Packages\\PythonSoftwareFoundation.Python.3.11_qbz5n2kfra8p0\\LocalCache\\local-packages\\Python311\\site-packages\\pyscreeze\\__init__.py:356\u001b[0m, in \u001b[0;36mlocate\u001b[1;34m(needleImage, haystackImage, **kwargs)\u001b[0m\n\u001b[0;32m    355\u001b[0m kwargs[\u001b[39m'\u001b[39m\u001b[39mlimit\u001b[39m\u001b[39m'\u001b[39m] \u001b[39m=\u001b[39m \u001b[39m1\u001b[39m\n\u001b[1;32m--> 356\u001b[0m points \u001b[39m=\u001b[39m \u001b[39mtuple\u001b[39m(locateAll(needleImage, haystackImage, \u001b[39m*\u001b[39m\u001b[39m*\u001b[39mkwargs))\n\u001b[0;32m    357\u001b[0m \u001b[39mif\u001b[39;00m \u001b[39mlen\u001b[39m(points) \u001b[39m>\u001b[39m \u001b[39m0\u001b[39m:\n",
      "File \u001b[1;32m~\\AppData\\Local\\Packages\\PythonSoftwareFoundation.Python.3.11_qbz5n2kfra8p0\\LocalCache\\local-packages\\Python311\\site-packages\\pyscreeze\\__init__.py:247\u001b[0m, in \u001b[0;36m_locateAll_pillow\u001b[1;34m(needleImage, haystackImage, grayscale, limit, region, step, confidence)\u001b[0m\n\u001b[0;32m    246\u001b[0m \u001b[39mif\u001b[39;00m confidence \u001b[39mis\u001b[39;00m \u001b[39mnot\u001b[39;00m \u001b[39mNone\u001b[39;00m:\n\u001b[1;32m--> 247\u001b[0m     \u001b[39mraise\u001b[39;00m \u001b[39mNotImplementedError\u001b[39;00m(\u001b[39m'\u001b[39m\u001b[39mThe confidence keyword argument is only available if OpenCV is installed.\u001b[39m\u001b[39m'\u001b[39m)\n\u001b[0;32m    249\u001b[0m \u001b[39m# setup all the arguments\u001b[39;00m\n",
      "\u001b[1;31mNotImplementedError\u001b[0m: The confidence keyword argument is only available if OpenCV is installed.",
      "\nDuring handling of the above exception, another exception occurred:\n",
      "\u001b[1;31mKeyboardInterrupt\u001b[0m                         Traceback (most recent call last)",
      "\u001b[1;32mc:\\Users\\TI\\Desktop\\TI\\AUTOMAÇÕES\\Canhotos\\test.ipynb Cell 2\u001b[0m line \u001b[0;36m2\n\u001b[0;32m     <a href='vscode-notebook-cell:/c%3A/Users/TI/Desktop/TI/AUTOMA%C3%87%C3%95ES/Canhotos/test.ipynb#W1sZmlsZQ%3D%3D?line=23'>24</a>\u001b[0m     find \u001b[39m=\u001b[39m \u001b[39m\"\u001b[39m\u001b[39mno\u001b[39m\u001b[39m\"\u001b[39m\n\u001b[0;32m     <a href='vscode-notebook-cell:/c%3A/Users/TI/Desktop/TI/AUTOMA%C3%87%C3%95ES/Canhotos/test.ipynb#W1sZmlsZQ%3D%3D?line=24'>25</a>\u001b[0m \u001b[39mexcept\u001b[39;00m:\n\u001b[1;32m---> <a href='vscode-notebook-cell:/c%3A/Users/TI/Desktop/TI/AUTOMA%C3%87%C3%95ES/Canhotos/test.ipynb#W1sZmlsZQ%3D%3D?line=25'>26</a>\u001b[0m     time\u001b[39m.\u001b[39;49msleep(\u001b[39m1\u001b[39;49m)\n\u001b[0;32m     <a href='vscode-notebook-cell:/c%3A/Users/TI/Desktop/TI/AUTOMA%C3%87%C3%95ES/Canhotos/test.ipynb#W1sZmlsZQ%3D%3D?line=26'>27</a>\u001b[0m     \u001b[39mprint\u001b[39m(\u001b[39m'\u001b[39m\u001b[39mCannot find\u001b[39m\u001b[39m'\u001b[39m)\n",
      "\u001b[1;31mKeyboardInterrupt\u001b[0m: "
     ]
    }
   ],
   "source": [
    "# automação para canhotos toda segunda feira\n",
    "# Geral: gerar e baixar dois pdf's de canhotos no sistema cloud e salvar na pasta de Miguel com a data e nome correto para cada um\n",
    "\n",
    "# 1° passo: abrir o sistema cloud na aba canhotos -> contas a receber\n",
    "\n",
    "find = \"yes\"\n",
    "\n",
    "py.hotkey('win')\n",
    "time.sleep(0.5)\n",
    "py.typewrite('edge')\n",
    "py.press('enter')\n",
    "time.sleep(1)\n",
    "py.typewrite('https://microworkcloud.com.br/cloud/#/home')\n",
    "py.press('enter')\n",
    "time.sleep(3)\n",
    "py.keyDown('shift')\n",
    "py.scroll(-900)\n",
    "py.keyUp('shift')\n",
    "\n",
    "while find == \"yes\":\n",
    "    try:\n",
    "        contasAReceber = py.locateOnScreen('./contas_a_receber.png', confidence=0.7, grayscale=True, region=(0, 0, 669, 768))\n",
    "        py.click(contasAReceber.x, contasAReceber.y)\n",
    "        find = \"no\"\n",
    "    except:\n",
    "        time.sleep(1)\n",
    "        print('Cannot find')\n",
    "        \n",
    "\n",
    "\n",
    "\n",
    "\n",
    "\n"
   ]
  }
 ],
 "metadata": {
  "kernelspec": {
   "display_name": "Python 3",
   "language": "python",
   "name": "python3"
  },
  "language_info": {
   "codemirror_mode": {
    "name": "ipython",
    "version": 3
   },
   "file_extension": ".py",
   "mimetype": "text/x-python",
   "name": "python",
   "nbconvert_exporter": "python",
   "pygments_lexer": "ipython3",
   "version": "3.11.5"
  },
  "orig_nbformat": 4
 },
 "nbformat": 4,
 "nbformat_minor": 2
}
